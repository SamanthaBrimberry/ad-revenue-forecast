{
 "cells": [
  {
   "cell_type": "code",
   "execution_count": 0,
   "metadata": {
    "application/vnd.databricks.v1+cell": {
     "cellMetadata": {
      "byteLimit": 2048000,
      "rowLimit": 10000
     },
     "inputWidgets": {},
     "nuid": "ae95d63b-3349-4534-b463-9ccf4fa6e14c",
     "showTitle": false,
     "tableResultSettingsMap": {},
     "title": ""
    }
   },
   "outputs": [],
   "source": [
    "import json\n",
    "import requests"
   ]
  },
  {
   "cell_type": "code",
   "execution_count": 0,
   "metadata": {
    "application/vnd.databricks.v1+cell": {
     "cellMetadata": {
      "byteLimit": 2048000,
      "rowLimit": 10000
     },
     "inputWidgets": {},
     "nuid": "3917d830-9109-4105-8e33-27763e0e57c5",
     "showTitle": false,
     "tableResultSettingsMap": {},
     "title": ""
    }
   },
   "outputs": [
    {
     "output_type": "display_data",
     "data": {
      "text/plain": [
       "{'cluster_id': '0119-190138-7sxx39w4'}"
      ]
     },
     "metadata": {},
     "output_type": "display_data"
    }
   ],
   "source": [
    "current_user = dbutils.notebook.entry_point.getDbutils().notebook().getContext().userName().get()\n",
    "base_url = dbutils.notebook.entry_point.getDbutils().notebook().getContext().apiUrl().get()\n",
    "token = dbutils.notebook.entry_point.getDbutils().notebook().getContext().apiToken().get()\n",
    "\n",
    "config = {\n",
    "    \"cluster_name\": \"ad-forecast-cluster\",\n",
    "    \"spark_version\": \"14.3.x-scala2.12\",\n",
    "    \"aws_attributes\": {\n",
    "        \"availability\": \"SPOT_WITH_FALLBACK\",\n",
    "        \"zone_id\": \"auto\"\n",
    "    },\n",
    "    \"node_type_id\": \"g5.12xlarge\",\n",
    "    \"autotermination_minutes\": 20,\n",
    "    \"single_user_name\": f\"{current_user}\",\n",
    "    \"data_security_mode\": \"DATA_SECURITY_MODE_AUTO\",\n",
    "    \"runtime_engine\": \"STANDARD\",\n",
    "    \"kind\": \"CLASSIC_PREVIEW\",\n",
    "    \"use_ml_runtime\": True,\n",
    "    \"is_single_node\": False,\n",
    "    \"autoscale\": {\n",
    "        \"min_workers\": 2,\n",
    "        \"max_workers\": 8\n",
    "    },\n",
    "    \"apply_policy_default_values\": False\n",
    "}\n",
    "\n",
    "response = requests.post(\n",
    "    f'{base_url}/api/2.1/clusters/create',\n",
    "    headers={'Authorization': f'Bearer {token}'},\n",
    "    data=json.dumps(config)\n",
    ")\n",
    "\n",
    "display(response.json())"
   ]
  }
 ],
 "metadata": {
  "application/vnd.databricks.v1+notebook": {
   "computePreferences": null,
   "dashboards": [],
   "environmentMetadata": {
    "base_environment": "",
    "client": "2"
   },
   "language": "python",
   "notebookMetadata": {
    "pythonIndentUnit": 2
   },
   "notebookName": "create-cluster",
   "widgets": {}
  },
  "language_info": {
   "name": "python"
  }
 },
 "nbformat": 4,
 "nbformat_minor": 0
}
